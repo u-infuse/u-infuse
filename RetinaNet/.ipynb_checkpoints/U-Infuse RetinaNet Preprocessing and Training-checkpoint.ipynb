{
 "cells": [
  {
   "cell_type": "markdown",
   "metadata": {},
   "source": [
    "# U-Infuse: RetinaNet Preprocessing and Training"
   ]
  },
  {
   "cell_type": "markdown",
   "metadata": {},
   "source": [
    "* **Author:** Andrew Shepley\n",
    "* **Contact:** asheple2@une.edu.au (alternate contact: andreashepley01@gmail.com)\n",
    "* **Source:** U-Infuse\n",
    "* **Purpose:**\n",
    " * select datasets and classes\n",
    " * generate training and validation scripts\n",
    " * run training inline"
   ]
  },
  {
   "cell_type": "markdown",
   "metadata": {},
   "source": [
    "# Preprocessing"
   ]
  },
  {
   "cell_type": "code",
   "execution_count": null,
   "metadata": {},
   "outputs": [],
   "source": [
    "#import relevant modules\n",
    "from preprocessing import *\n",
    "from train_main import *"
   ]
  },
  {
   "cell_type": "code",
   "execution_count": null,
   "metadata": {},
   "outputs": [],
   "source": [
    "#show which datasets/folders are available\n",
    "print(get_all_datasets('../datasets/'))"
   ]
  },
  {
   "cell_type": "code",
   "execution_count": null,
   "metadata": {},
   "outputs": [],
   "source": [
    "#use negative samples in training(True) or not(False)\n",
    "use_negatives = True"
   ]
  },
  {
   "cell_type": "code",
   "execution_count": null,
   "metadata": {},
   "outputs": [],
   "source": [
    "#user selection of folders\n",
    "chosen_datasets = ['SS_rhino']\n",
    "negative_folders = ['negatives']"
   ]
  },
  {
   "cell_type": "code",
   "execution_count": null,
   "metadata": {},
   "outputs": [],
   "source": [
    "#show which classes are available in the selected folders\n",
    "classes = print(update_available_classes('../datasets/', '../annotations/', chosen_datasets))"
   ]
  },
  {
   "cell_type": "code",
   "execution_count": null,
   "metadata": {},
   "outputs": [],
   "source": [
    "#user selection of classes\n",
    "chosen_classes = {'rhinoceros'}"
   ]
  },
  {
   "cell_type": "code",
   "execution_count": null,
   "metadata": {},
   "outputs": [],
   "source": [
    "#generate training and validation csv files\n",
    "generate_training_scripts(chosen_datasets, chosen_classes, use_negatives, negative_folders) "
   ]
  },
  {
   "cell_type": "markdown",
   "metadata": {},
   "source": [
    "# Training"
   ]
  },
  {
   "cell_type": "code",
   "execution_count": null,
   "metadata": {},
   "outputs": [],
   "source": [
    "#show all available pretrained models\n",
    "pretrained_models = './pretrained_models/'\n",
    "get_all_pretrained_models(pretrained_models)"
   ]
  },
  {
   "cell_type": "code",
   "execution_count": null,
   "metadata": {},
   "outputs": [],
   "source": [
    "#choose training parameters\n",
    "pretrained_model = 'pretrained_COCO.h5'\n",
    "batch_size = 2\n",
    "num_epochs = 30"
   ]
  },
  {
   "cell_type": "code",
   "execution_count": null,
   "metadata": {},
   "outputs": [],
   "source": [
    "#prepare training input\n",
    "PRETRAINED_MODEL, BATCH_SIZE, STEPS, EPOCHS = set_training_parameters(pretrained_model, batch_size, num_epochs)"
   ]
  },
  {
   "cell_type": "code",
   "execution_count": null,
   "metadata": {},
   "outputs": [],
   "source": [
    "#default\n",
    "SNAPSHOTS = './snapshots/'\n",
    "TRAINING = 'training.csv'\n",
    "VALIDATION = 'validation.csv'\n",
    "CLASSES = 'classes.csv'\n",
    "\n",
    "os.environ[\"CUDA_VISIBLE_DEVICES\"] = \"0\""
   ]
  },
  {
   "cell_type": "code",
   "execution_count": null,
   "metadata": {
    "scrolled": true
   },
   "outputs": [],
   "source": [
    "!python3 /homes/une/ashepley/keras-retinanet/keras_retinanet/bin/train.py --freeze-backbone --snapshot-path {SNAPSHOTS} --weights {PRETRAINED_MODEL} --random-transform --batch-size {BATCH_SIZE} --steps {STEPS} --epochs {EPOCHS} csv {TRAINING} {CLASSES}  --val-annotations {VALIDATION} "
   ]
  },
  {
   "cell_type": "code",
   "execution_count": null,
   "metadata": {},
   "outputs": [],
   "source": [
    "#debug --optional\n",
    "!python3 /homes/une/ashepley/keras-retinanet/keras_retinanet/bin/debug.py --annotations csv {TRAINING} {CLASSES}"
   ]
  }
 ],
 "metadata": {
  "kernelspec": {
   "display_name": "Python 3",
   "language": "python",
   "name": "python3"
  },
  "language_info": {
   "codemirror_mode": {
    "name": "ipython",
    "version": 3
   },
   "file_extension": ".py",
   "mimetype": "text/x-python",
   "name": "python",
   "nbconvert_exporter": "python",
   "pygments_lexer": "ipython3",
   "version": "3.6.8"
  }
 },
 "nbformat": 4,
 "nbformat_minor": 2
}
