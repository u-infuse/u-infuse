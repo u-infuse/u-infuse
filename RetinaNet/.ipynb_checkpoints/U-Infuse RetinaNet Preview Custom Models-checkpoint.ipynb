{
 "cells": [
  {
   "cell_type": "markdown",
   "metadata": {},
   "source": [
    "# U-Infuse: RetinaNet Preview Custom Trained Models"
   ]
  },
  {
   "cell_type": "markdown",
   "metadata": {},
   "source": [
    "* **Author:** Andrew Shepley\n",
    "* **Contact:** asheple2@une.edu.au (alternate contact: andreashepley01@gmail.com)\n",
    "* **Source:** U-Infuse\n",
    "* **Purpose:**\n",
    " * preview performance of models\n",
    " * select and export chosen model\n",
    " * delete remaining models (snapshots take up a lot of memory so this is recommended)"
   ]
  },
  {
   "cell_type": "code",
   "execution_count": null,
   "metadata": {},
   "outputs": [],
   "source": [
    "#import libraries\n",
    "from inference import *\n",
    "from preprocessing import *\n",
    "\n",
    "%matplotlib inline\n",
    "%load_ext autoreload\n",
    "%autoreload 2\n",
    "\n",
    "# use this environment flag to change which GPU to use\n",
    "os.environ[\"CUDA_VISIBLE_DEVICES\"] = \"0\""
   ]
  },
  {
   "cell_type": "code",
   "execution_count": null,
   "metadata": {},
   "outputs": [],
   "source": [
    "#show all the available snapshots \n",
    "model_dir = './snapshots/'\n",
    "print(get_all_files(model_dir, 'h5'))"
   ]
  },
  {
   "cell_type": "code",
   "execution_count": null,
   "metadata": {},
   "outputs": [],
   "source": [
    "#choose one of the above models\n",
    "chosen_model = 'resnet50_csv_03.h5'\n",
    "model = choose_inference_model(model_dir, chosen_model)\n",
    "#don't change this\n",
    "class_mapping_file = './classes.csv'"
   ]
  },
  {
   "cell_type": "code",
   "execution_count": null,
   "metadata": {},
   "outputs": [],
   "source": [
    "#set this to dir containing test images\n",
    "inference_dir = '../test/'\n",
    "\n",
    "#on how many images do you want to preview the model? (range 1-num of images in inference_dir) \n",
    "num_preview_images = 3\n",
    "\n",
    "#choose confidence threshold \n",
    "confidence_threshold = set_confidence_threshold(50) "
   ]
  },
  {
   "cell_type": "code",
   "execution_count": null,
   "metadata": {},
   "outputs": [],
   "source": [
    "#this is the subset of images that will be shown in the preview window. Depends on num_preview_images above\n",
    "preview_images = get_preview_images(inference_dir, num_preview_images)"
   ]
  },
  {
   "cell_type": "code",
   "execution_count": null,
   "metadata": {},
   "outputs": [],
   "source": [
    "#Run on all preview images\n",
    "for each_im in preview_images:\n",
    "    processed_image, object_detection_data = inference_per_image(inference_dir, model, each_im,class_mapping_file, confidence_threshold)\n",
    "    #show images\n",
    "    img = Image.fromarray(processed_image, 'RGB')\n",
    "    plt.figure(figsize=(15, 15))\n",
    "    plt.axis('off')\n",
    "    plt.imshow(img)\n",
    "    plt.show()"
   ]
  },
  {
   "cell_type": "code",
   "execution_count": null,
   "metadata": {},
   "outputs": [],
   "source": [
    "#GUI ONLY. Process one image at a time.\n",
    "image_0 = preview_images[0]\n",
    "#processed_image is a np image\n",
    "processed_image, object_detection_data = inference_per_image(inference_dir, model, image_0,class_mapping_file, confidence_threshold)\n",
    "\n",
    "#show np image in the GUI\n",
    "img = Image.fromarray(processed_image, 'RGB')\n",
    "plt.figure(figsize=(15, 15))\n",
    "plt.axis('off')\n",
    "plt.imshow(img)\n",
    "plt.show()"
   ]
  },
  {
   "cell_type": "code",
   "execution_count": null,
   "metadata": {},
   "outputs": [],
   "source": [
    "#delete all remaining models (unchosen)\n",
    "delete_remaining_models=True\n",
    "#provide a name for your new object detector\n",
    "model_name = 'testModel'\n",
    "#export the model to ./pretrained_models. It can now be used for object detection and as a backbone for further transfer learning.\n",
    "export_model(chosen_model, model_name, delete_remaining_models)"
   ]
  }
 ],
 "metadata": {
  "kernelspec": {
   "display_name": "Python 3",
   "language": "python",
   "name": "python3"
  },
  "language_info": {
   "codemirror_mode": {
    "name": "ipython",
    "version": 3
   },
   "file_extension": ".py",
   "mimetype": "text/x-python",
   "name": "python",
   "nbconvert_exporter": "python",
   "pygments_lexer": "ipython3",
   "version": "3.6.8"
  }
 },
 "nbformat": 4,
 "nbformat_minor": 2
}
