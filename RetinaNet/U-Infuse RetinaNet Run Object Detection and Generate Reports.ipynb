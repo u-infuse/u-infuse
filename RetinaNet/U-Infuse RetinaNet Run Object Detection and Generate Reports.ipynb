{
 "cells": [
  {
   "cell_type": "markdown",
   "metadata": {},
   "source": [
    "# U-Infuse: RetinaNet Run Object Detection and Generate Summary and Detailed Reports"
   ]
  },
  {
   "cell_type": "markdown",
   "metadata": {},
   "source": [
    "* **Author:** Andrew Shepley\n",
    "* **Contact:** asheple2@une.edu.au (alternate contact: andreashepley01@gmail.com)\n",
    "* **Source:** U-Infuse\n",
    "* **Purpose:**\n",
    " * run object detection model on custom dataset/s\n",
    " * generate summary report\n",
    " * generate detailed report (JSON file)"
   ]
  },
  {
   "cell_type": "code",
   "execution_count": null,
   "metadata": {},
   "outputs": [],
   "source": [
    "#import libraries\n",
    "from inference import *\n",
    "from preprocessing import *\n",
    "from report import *\n",
    "from inference_image import *\n",
    "\n",
    "%matplotlib inline\n",
    "%load_ext autoreload\n",
    "%autoreload 2\n",
    "\n",
    "# use this environment flag to change which GPU to use\n",
    "os.environ[\"CUDA_VISIBLE_DEVICES\"] = \"0\""
   ]
  },
  {
   "cell_type": "code",
   "execution_count": null,
   "metadata": {},
   "outputs": [],
   "source": [
    "#list all available object detectors\n",
    "model_dir = './pretrained_models/'\n",
    "print(get_all_files(model_dir, 'h5'))"
   ]
  },
  {
   "cell_type": "code",
   "execution_count": null,
   "metadata": {},
   "outputs": [],
   "source": [
    "#choose one of the object detectors from list above\n",
    "chosen_model = '3_classes.h5'\n",
    "model = choose_inference_model(model_dir, chosen_model)\n",
    "class_mapping_file = os.path.join(model_dir,chosen_model[:-2]+\"csv\")"
   ]
  },
  {
   "cell_type": "code",
   "execution_count": null,
   "metadata": {},
   "outputs": [],
   "source": [
    "#set this variable to folder containing test images\n",
    "inference_dir = '../test/'\n",
    "\n",
    "#choose confidence threshold (0-100)\n",
    "user_selected_confidence = 90\n",
    "confidence_threshold = set_confidence_threshold(user_selected_confidence) "
   ]
  },
  {
   "cell_type": "code",
   "execution_count": null,
   "metadata": {},
   "outputs": [],
   "source": [
    "#this is the list of images that will be passed into the inference model\n",
    "inference_images = generate_list_of_images(inference_dir) "
   ]
  },
  {
   "cell_type": "code",
   "execution_count": null,
   "metadata": {},
   "outputs": [],
   "source": [
    "#provide a title for the reports\n",
    "report_title = \"Test_Report\"\n",
    "#generate detailed report and report of empty images (list of all images classified as not containing an object of interest)\n",
    "detailed_report = True\n",
    "empty_report = True"
   ]
  },
  {
   "cell_type": "code",
   "execution_count": null,
   "metadata": {},
   "outputs": [],
   "source": [
    "#create Report object\n",
    "report = Report(report_title, chosen_model, inference_dir, user_selected_confidence)"
   ]
  },
  {
   "cell_type": "code",
   "execution_count": null,
   "metadata": {
    "scrolled": true
   },
   "outputs": [],
   "source": [
    "#Run inference on all images\n",
    "for each_im in inference_images:\n",
    "    processed_image, object_detection_data = inference_per_image(inference_dir, model, each_im, class_mapping_file, confidence_threshold)\n",
    "    inferred_image = Inference_Image(each_im, os.path.join(inference_dir, each_im), object_detection_data)\n",
    "    report.processed_images.append(inferred_image)\n",
    "    \n",
    "    #display images\n",
    "    img = Image.fromarray(processed_image, 'RGB')\n",
    "    plt.figure(figsize=(15, 15))\n",
    "    plt.axis('off')\n",
    "    plt.imshow(img)\n",
    "    plt.show()\n",
    " \n",
    "#write the reports\n",
    "report.write_report(detailed_report, empty_report)"
   ]
  }
 ],
 "metadata": {
  "kernelspec": {
   "display_name": "Python 3",
   "language": "python",
   "name": "python3"
  },
  "language_info": {
   "codemirror_mode": {
    "name": "ipython",
    "version": 3
   },
   "file_extension": ".py",
   "mimetype": "text/x-python",
   "name": "python",
   "nbconvert_exporter": "python",
   "pygments_lexer": "ipython3",
   "version": "3.6.8"
  }
 },
 "nbformat": 4,
 "nbformat_minor": 2
}
